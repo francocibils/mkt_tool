{
 "cells": [
  {
   "cell_type": "markdown",
   "id": "0dc1dd2d-5e40-4bc6-81e9-ef10c35e260b",
   "metadata": {},
   "source": [
    "## Getting the cost of that extra conversion\n",
    "The idea of this notebook is to develop a set of functions that allows the user to compute the extra cost of a conversion on any given product and media channel. That is, as a business owner, one may advertise themselves on an online platform from which they obtain customers.\n",
    "\n",
    "What I assume is that, at any given level, getting an additional customer is going to be more expensive than the last one. Another way of looking at that is that another dollar worth of investment is going to yield a lesser proportion of customers than the previous dollar.\n",
    "\n",
    "I will be using synthetic data for different products advertised on different platforms.\n",
    "\n",
    "The main output of this notebook is a toolbox consisting on different calculators that allow the user to obtain some useful insights."
   ]
  },
  {
   "cell_type": "markdown",
   "id": "b903dc2d-3795-4e4e-bfee-c0963dddf5a3",
   "metadata": {},
   "source": [
    "### Libraries"
   ]
  },
  {
   "cell_type": "code",
   "execution_count": null,
   "id": "c24e7c8d-0523-4c18-87bc-6e7bc345649e",
   "metadata": {},
   "outputs": [],
   "source": [
    "import pandas as pd\n",
    "import numpy as np\n",
    "import matplotlib.pyplot as plt\n",
    "import seaborn as sns\n",
    "import statsmodels.api as sm\n",
    "import json\n",
    "\n",
    "from matplotlib.ticker import FormatStrFormatter\n",
    "import matplotlib as mpl\n",
    "import matplotlib.dates as mdates"
   ]
  },
  {
   "cell_type": "code",
   "execution_count": null,
   "id": "b9e48b5f-6113-4938-a081-e1be08c0618c",
   "metadata": {},
   "outputs": [],
   "source": [
    "pd.set_option('display.float_format', lambda x: '%.3f' % x)"
   ]
  },
  {
   "cell_type": "markdown",
   "id": "6f4ac3cd-f21f-488d-9d21-fb22960121a1",
   "metadata": {},
   "source": [
    "### Import file"
   ]
  },
  {
   "cell_type": "code",
   "execution_count": null,
   "id": "65685e62-11c2-426f-8516-a5647fb4e29e",
   "metadata": {},
   "outputs": [],
   "source": [
    "file = r'C:\\Users\\HP\\Desktop\\SH - Profesional\\Data Science and Machine Learning\\Proyectos\\Movistar\\Dataset\\All countries\\Argentina\\Synthetic data.xlsx'\n",
    "data = pd.read_excel(file, index_col = 'DATE')"
   ]
  },
  {
   "cell_type": "code",
   "execution_count": null,
   "id": "578e62a7",
   "metadata": {},
   "outputs": [],
   "source": [
    "data.PRODUCT.unique().tolist()"
   ]
  },
  {
   "cell_type": "markdown",
   "id": "fd87deeb-b30d-480f-a916-7ecfc43ad8ba",
   "metadata": {},
   "source": [
    "### Exploratory Data Analysis - Part I\n",
    "I'll perform a simple EDA on this dataset."
   ]
  },
  {
   "cell_type": "code",
   "execution_count": null,
   "id": "2d54113e-2c81-40f6-a6e0-25072f30c95c",
   "metadata": {},
   "outputs": [],
   "source": [
    "# General things\n",
    "data.head()\n",
    "data.isna().sum()\n",
    "data.shape\n",
    "data.index\n",
    "data.columns\n",
    "data.describe()\n",
    "\n",
    "# Get unique types of products and platforms\n",
    "data.PRODUCT.unique()\n",
    "data.PLATFORM.unique()"
   ]
  },
  {
   "cell_type": "markdown",
   "id": "21776f78-6f35-49ef-b3ad-ce577e53f76c",
   "metadata": {},
   "source": [
    "#### Some comments - I\n",
    "1. This is a dataset comprised of 5244 observations. For each data point there are four columns: Product, Platform, Investment, Conversions. The first column corresponds to the kind of product; the second column corresponds to the platform in which certain product is advertised; the third column corresponds to the investment of certain product in certain platform; finally, the fourth column corresponds to the conversions of any given product on a specific platform. Also, each observation corresponds to the investment and conversions of X product on Y platform for Z date.\n",
    "2. This dataframe ain't formatted appropriately for regression use. Later, I will transform it into an easier-to-handle dataframe.\n",
    "3. The sample starts at 01-01-2021 and lasts until 28-02-2022. For each date there is more than one observation, since there are multiple products advertised in multiple platforms.\n",
    "4. There are 6 types of products and 3 types of platforms.\n",
    "5. By the synthetic nature of this dataset, there are no NA values in this format, but there will be later when the index becomes unique and all product and platforms get their own columns for investment and conversions. That is, there will be dates in which there is no data for certain product and platform.\n",
    "6. Overall, average investment (for all products, across all platforms) is around 862 dollars, while average conversions are around 164. Max investment is around 5578, while max conversions gets to 1549. There is a lot of dispersion among investment and conversions, given by the standard deviation.\n",
    "7. As I will not attempt to establish any realtionship between products/platforms, I will not address any correlation between the different combinations of products and platforms. But, it may be interesting to make an extension of this notebook that creates an useful application based on the possible correlation among these variables."
   ]
  },
  {
   "cell_type": "code",
   "execution_count": null,
   "id": "4374833e-22fd-48c7-96c5-e52baf2aefd3",
   "metadata": {},
   "outputs": [],
   "source": [
    "# Total investment and conversions\n",
    "data[['INVESTMENT', 'CONVERSIONS']].sum()\n",
    "data[['INVESTMENT', 'CONVERSIONS']].sum() / len(data.index.unique())\n",
    "data['INVESTMENT'].sum() / data['CONVERSIONS'].sum()\n",
    "\n",
    "# Investment and conversions by product, by platform, and by product and platform\n",
    "by_product = data.groupby('PRODUCT').sum()\n",
    "by_platform = data.groupby('PLATFORM').sum()\n",
    "by_product_platform = data.groupby(['PRODUCT', 'PLATFORM']).sum()\n",
    "\n",
    "# Cost per conversion by product and by platform\n",
    "(by_product['INVESTMENT'] / by_product['CONVERSIONS']).sort_values(ascending = False)\n",
    "(by_platform['INVESTMENT'] / by_platform['CONVERSIONS']).sort_values(ascending = False)"
   ]
  },
  {
   "cell_type": "markdown",
   "id": "15d5e99b-5cde-4e23-a416-c3da43a681bb",
   "metadata": {},
   "source": [
    "#### Some comments - II\n",
    "1. There is a total investment of 4.5 millions of dollars and total conversions amount to 864K. On average, daily investment was 10.5K and conversions were around 2K.\n",
    "2. By dividing total investment by total conversions one gets an overall idea of the cost per conversion (CPC). In this case it is around 5.23, that is, on average, every conversion costs around 5 dollars.\n",
    "3. The same idea from above applies when grouping by product and platform. When grouping by product the most expensive one is Product6 with a CPC of 15.15, while the lowest is Product3 with a CPC of 1.2. When grouping by platform, the most expensive one is Platform2, followed by Platform3, and then Platform1."
   ]
  },
  {
   "cell_type": "code",
   "execution_count": null,
   "id": "79d336fc-0d30-4d09-a7db-1cf27980b587",
   "metadata": {},
   "outputs": [],
   "source": [
    "def plot_proportions(proportions, title):\n",
    "    sns.set(rc = {'figure.figsize':(10,8)})\n",
    "    plt.style.use('dark_background')\n",
    "    fig = plt.pie(proportions, autopct = '%.2f%%', textprops = {'fontsize': 18, 'color': 'black'})\n",
    "    plt.title(title, fontsize = 20)\n",
    "    plt.legend(labels = proportions.index, prop = {'size': 16}, loc = 'upper right')\n",
    "    plt.show() "
   ]
  },
  {
   "cell_type": "code",
   "execution_count": null,
   "id": "db375300-e454-40d5-be97-5c951523bc33",
   "metadata": {},
   "outputs": [],
   "source": [
    "# Investment by product\n",
    "investment_by_product = data.groupby(['PRODUCT']).sum()['INVESTMENT']\n",
    "investment_by_platform = data.groupby(['PLATFORM']).sum()['INVESTMENT']\n",
    "conversions_by_product = data.groupby(['PRODUCT']).sum()['CONVERSIONS']\n",
    "conversions_by_platform = data.groupby(['PLATFORM']).sum()['CONVERSIONS']\n",
    "\n",
    "plot_proportions(proportions = investment_by_platform, title = 'Product investment share')"
   ]
  },
  {
   "cell_type": "markdown",
   "id": "019b8d11-3dd6-40ed-ad16-7ea278f656cf",
   "metadata": {},
   "source": [
    "#### Some comments - III\n",
    "1. When grouped by Product, Product1 takes a little bit more than 56% of total investment, followed by Product4 with 28%. The remaining product take the remaining 14%. The same pattern is observed regarding conversions.\n",
    "2. When grouped by Platform, Platform3 takes more than two thirds of total investment, followed by Platform1 with almost 27%. Regarding conversions, the same pattern is observed."
   ]
  },
  {
   "cell_type": "markdown",
   "id": "fe049e76-a220-465a-acdc-4c273ae317f0",
   "metadata": {},
   "source": [
    "### Changing dataset format\n",
    "The idea of the following lines is to change the format of the dataset to make it more useful for a regression model."
   ]
  },
  {
   "cell_type": "code",
   "execution_count": null,
   "id": "d6aa9f47-861f-4401-9eab-51e7fa82922c",
   "metadata": {},
   "outputs": [],
   "source": [
    "dfs_dict = {}\n",
    "\n",
    "for i in data.PRODUCT.unique():\n",
    "    for j in data.PLATFORM.unique():\n",
    "        temp = data[(data['PRODUCT'] == i) & (data['PLATFORM'] == j)]\n",
    "        if not temp.empty:\n",
    "            temp = temp[['INVESTMENT', 'CONVERSIONS']]\n",
    "            temp.columns = ['{} - {} - Investment'.format(i, j), '{} - {} - Conversions'.format(i, j)]\n",
    "            dfs_dict['{0} - {1}'.format(i, j)] = temp\n",
    "\n",
    "start_date = data.index.unique().sort_values()[0]\n",
    "end_date = data.index.unique().sort_values()[-1]\n",
    "\n",
    "dataset = pd.DataFrame(index = pd.date_range(start = start_date, end = end_date, freq = 'd'))\n",
    "\n",
    "for i in dfs_dict:\n",
    "    dataset = pd.merge(dataset, dfs_dict[i], left_index = True, right_index = True, how = 'left')\n",
    "    \n",
    "dataset = dataset.fillna(0)\n",
    "dataset.to_excel(r'C:\\Users\\HP\\Desktop\\SH - Profesional\\Data Science and Machine Learning\\Proyectos\\My projects\\Conversions tool\\Conversions dataset.xlsx')\n",
    "dataset.to_csv(r'C:\\Users\\HP\\Desktop\\SH - Profesional\\Data Science and Machine Learning\\Proyectos\\My projects\\Conversions tool\\Conversions dataset.csv')"
   ]
  },
  {
   "cell_type": "markdown",
   "id": "95093caf-947f-4f0d-9c11-03849dd36022",
   "metadata": {},
   "source": [
    "### Exploratory Data Analysis - Part II\n",
    "Now, the dataset is in an easier to work with format. Every row is an unique date. Every column is one of two things: investment or converion for a certain combination between products and platforms (it is easy to check that the list of possible combinations is not exhaustive).\n",
    "\n",
    "The following function allows to plot the investment and conversions of some product in some platform within the same figure. Investment comes in the form of bars, while conversions form a line. There are two possible ways to plot this figure: setting *sort_investment* to False (default) returns a time series plot, while setting it to True returns a plot in which Investment is sorted from lowest (left) to highest (right).\n",
    "\n",
    "While the timely-ordered plot is quite basic and only allows to examine the evolution, the investment-ordered plot is more insightful. It allows to see continuously how conversions react to constant increases (though not equal) in investment. In particular, it can show whether from certain point onwards increases in investment do not impact conversions at all. At this point, one may start to think that the platform is getting saturated, in the sense that no matter how much more money one invests in that particular product in that platform, it ain't gonna get more converions. In this case, it may be advisable to stop investing more money, since that extra conversion (if it is even possible to obtain) is going to be way too expensive."
   ]
  },
  {
   "cell_type": "code",
   "execution_count": null,
   "id": "818db7b8-5e5b-4c02-9e7e-14ec66c142ad",
   "metadata": {},
   "outputs": [],
   "source": [
    "def plot_investment_conversions(dataset, product, platform, sort_investment = False):\n",
    "    \n",
    "    temp = dataset.copy(deep = True)\n",
    "    temp = temp[[i for i in temp.columns if (product in i) and (platform in i)]]\n",
    "    \n",
    "    if sort_investment:\n",
    "        temp = temp.sort_values(f'{product} - {platform} - Investment').reset_index().drop(['index'], axis = 1)\n",
    "        \n",
    "    plt.style.use('dark_background')\n",
    "\n",
    "    fig, ax1 = plt.subplots(figsize = (16, 8))\n",
    "\n",
    "    ax1.bar(temp.index, temp[f'{product} - {platform} - Investment'], width = 1, label = 'Investment', color = '#2E507A')\n",
    "    ax1.set_ylabel('Investment', fontsize = 15)\n",
    "    ax1.tick_params(axis = 'both', labelsize = 12)\n",
    "    ax1.set_title(f'{product} - {platform}', fontsize = 20, y = 1)\n",
    "\n",
    "    ax2 = ax1.twinx()\n",
    "    ax2.plot(temp.index, temp[f'{product} - {platform} - Conversions'], color = '#78180E', label = 'Conversions')\n",
    "    ax2.set_ylabel('Conversions', fontsize = 15)\n",
    "    ax2.tick_params(axis = 'both', labelsize = 12)\n",
    "    if sort_investment:\n",
    "        ax2.set_xticks([])\n",
    "\n",
    "    fig.legend(loc = \"upper right\", bbox_to_anchor = (1,1), bbox_transform = ax1.transAxes, prop = {'size': 12})\n",
    "\n",
    "    plt.show()"
   ]
  },
  {
   "cell_type": "markdown",
   "id": "1a3abea5-7aef-4b2f-be66-66c7e125a73e",
   "metadata": {},
   "source": [
    "The previous comment is easy to notice in the next figure (*Product1* in *Platform3*). While at low levels of investment increases in conversions are proportionate, when investment keeps getting higher and higher, specially from 1500 dollars onwards, on average conversions do not increase that much (if they even increase at all). From 3000 dollars onwards it's easily noticeable that on average conversions do not react at all."
   ]
  },
  {
   "cell_type": "code",
   "execution_count": null,
   "id": "94d7cec2-20c2-44df-b819-e13ce6dc9614",
   "metadata": {},
   "outputs": [],
   "source": [
    "plot_investment_conversions(dataset, 'Product1', 'Platform3', sort_investment = True)"
   ]
  },
  {
   "cell_type": "markdown",
   "id": "eb62e29b-3c98-4cd2-9107-321c268cfd33",
   "metadata": {},
   "source": [
    "That doesn't seem to be the case in the next figure (*Product1* in *Platform1*), where increases in investment are matched by almost proportionally equal increases in conversions. In any case, as investment keeps going up conversions do go up as well on average."
   ]
  },
  {
   "cell_type": "code",
   "execution_count": null,
   "id": "8d750394-ae46-47a7-b1d5-eeb989bda6ac",
   "metadata": {},
   "outputs": [],
   "source": [
    "plot_investment_conversions(dataset, 'Product1', 'Platform1', sort_investment = True)"
   ]
  },
  {
   "cell_type": "markdown",
   "id": "3b46f7b2-a78d-4d58-a903-4d4c2563803a",
   "metadata": {},
   "source": [
    "To conclude with this EDA section, I will make some time series plots to see how investment and conversions evolved through time. (I will only show for Product1, both Investment and Conversions.)"
   ]
  },
  {
   "cell_type": "code",
   "execution_count": null,
   "id": "c504091b-a5b2-416d-ac7f-b284e4d3a8c7",
   "metadata": {},
   "outputs": [],
   "source": [
    "dataset[[i for i in dataset.columns if ('Product1' in i) and ('Investment' in i)]].plot(figsize = (20, 10))\n",
    "dataset[[i for i in dataset.columns if ('Product1' in i) and ('Conversions' in i)]].plot(figsize = (20, 10))"
   ]
  },
  {
   "cell_type": "markdown",
   "id": "a30ce664-9360-4875-88ac-57cf6cd1e2df",
   "metadata": {},
   "source": [
    "### Modelling\n",
    "The idea is to understand what relationship exists between investment and conversions. With domain knowledge at hand, I suspect that there exists a diminishing returns relationship between these two variables, that is, every conversion will be more expensive than the last. Another way of putting it is that every extra dollar invested yields less conversions than the previous dollar.\n",
    "\n",
    "From a statistical standpoint, what I'll be doing is implementing a simple regression model with a constant. The dependent variable will be the conversions for a specific product in a specific platform; the independent variable will be, as expected, investment. To model the idea of diminishing returns I will be applying the square root to investment. There are other possibilities such as taking the fourth root or logarithms, but I got the best results with square root. One may also try out a sigmoidal transformation, but this approach implies that there is a roof for top conversions, unrelated to the level of investment. With the square root there is no such roof, but it will get very expensive to get that extra conversion at higher levels of investment.\n",
    "\n",
    "Another reason for restricting myself to just square root is that it is easy to work with, specially later when I create some tools to gain insights using the results from the models. Since the results make overall sense, the suspected relationship is modelled, and it's easy to work with, then I will be sticking myself only to square root, regardless of other possibilities.\n",
    "\n",
    "One may find interesting to include variables that account for special business events such as holidays, special offers, etc. The reason behind this is that if there is a special event that leads to more conversions, then the model will be picking a relationship that is not entirely correct (even if this special event only lasts a few days or weeks). It'll bias the results, making the model believe that investment is more profitable than it actually is. One should include dummy variables if we know for a fact that certain product in certain platform had an special event. In this case, since it is synthetic data, I have no such information.\n",
    "\n",
    "It might be also interesting to include adstock of investment. The idea behind this is that if I invest a 100 dollars today it will not only have an impact today, but also tomorrow and the after and so on, but to a lesser degree. But the truth is that I tried this approach and it didn't yield any good results, that is, p-values were always quite bad. Therefore, I decided to not include in this notebook. But is worth the shot. One argument in favor of excluding this variable is the possibility that one is considering online marketing channels which usually have an inmediate impact, since including adstock implies that the impact spreads out during the following days, then it is reasonable that the results of adstocked investment are not statiscally significant."
   ]
  },
  {
   "cell_type": "markdown",
   "id": "5d986bcc-11d4-4168-9429-b1f0cb824e68",
   "metadata": {},
   "source": [
    "#### Some useful functions\n",
    "1. transform_columns: Creates the square root transformation needed to model the diminishing returns concepto.\n",
    "2. fit_results: Fits a model with a constant and an independent variable, returns those results.\n",
    "3. get_results: Returns a fitted model from which one may obtain the coefficients (useful for later applications) or, since we are using only two variables (and one is just a constant), it may return a simple scatterplot that shows conversions on the Y-axis and investment on the X-axis, and the corresponding fitted curve."
   ]
  },
  {
   "cell_type": "code",
   "execution_count": null,
   "id": "f882c7ff-1ca3-4789-95ce-ff3285a90121",
   "metadata": {},
   "outputs": [],
   "source": [
    "def transform_column(column, dataframe):\n",
    "        \n",
    "    return np.sqrt(dataframe[column])"
   ]
  },
  {
   "cell_type": "code",
   "execution_count": null,
   "id": "2b20dad9-1cff-496b-8852-ed5523d78525",
   "metadata": {},
   "outputs": [],
   "source": [
    "def fit_results(dataframe, y_column, x_columns, constant = True):\n",
    "    \n",
    "    y = dataframe[y_column]\n",
    "    x = dataframe[x_columns]\n",
    "    \n",
    "    if constant:\n",
    "        x = sm.add_constant(x)\n",
    "        \n",
    "    model = sm.OLS(y, x)\n",
    "    results = model.fit()\n",
    "    \n",
    "    return results"
   ]
  },
  {
   "cell_type": "code",
   "execution_count": null,
   "id": "d4869ddc-7ddd-4b9f-81ee-e228934e10b5",
   "metadata": {},
   "outputs": [],
   "source": [
    "def get_results(df, variable, show_results = False):\n",
    "    \n",
    "    temp = df[[variable + ' - Investment', variable + ' - Conversions']].copy(deep = True)\n",
    "    temp = temp.loc[~(temp == 0).any(axis = 1)]\n",
    "    temp[variable + ' - Investment_sqrt'] = transform_column([variable + ' - Investment'], temp)\n",
    "\n",
    "    y = [variable + ' - Conversions']\n",
    "    x = [variable + ' - Investment_sqrt']\n",
    "    \n",
    "    results = fit_results(temp, y, x, constant = True)\n",
    "    \n",
    "    if show_results:\n",
    "        return results\n",
    "    \n",
    "    max_investment = temp[variable + ' - Investment'].max() * 1.1\n",
    "    min_investment = temp[variable + ' - Investment'].min()\n",
    "    invest = np.arange(min_investment, max_investment)\n",
    "    y = results.params[variable + ' - Investment_sqrt'] * np.sqrt(invest) + results.params['const']        \n",
    "\n",
    "    plt.figure(figsize = (16, 8))\n",
    "    plt.style.use('dark_background')\n",
    "    ax = plt.axes()\n",
    "    ax.scatter(temp[[variable + ' - Investment']], temp[[variable + ' - Conversions']], color = '#2E507A')\n",
    "    ax.plot(invest, y, color = '#78180E')\n",
    "    plt.title(variable, fontsize = 20)\n",
    "\n",
    "    ax.set_xlabel('Investment', fontsize = 15)\n",
    "    ax.set_ylabel('Conversions', fontsize = 15)\n",
    "    ax.tick_params(axis = 'both', labelsize = 12)\n",
    "    ax.xaxis.set_major_formatter(FormatStrFormatter('%.0f'))\n",
    "    ax.xaxis.set_major_formatter(mpl.ticker.StrMethodFormatter('{x:,.0f}'))\n",
    "\n",
    "    plt.show()"
   ]
  },
  {
   "cell_type": "markdown",
   "id": "0cd3845e-0fa3-4344-a70f-7d6c3660c822",
   "metadata": {},
   "source": [
    "#### Results"
   ]
  },
  {
   "cell_type": "markdown",
   "id": "4a09ffff-a7d0-4d35-a170-5eade99ba515",
   "metadata": {},
   "source": [
    "As an example, we fit a model for *Product1* in *Platform1*. The results are as follows:"
   ]
  },
  {
   "cell_type": "code",
   "execution_count": null,
   "id": "9054fa37-9d86-41ee-9531-40680e76f6bb",
   "metadata": {},
   "outputs": [],
   "source": [
    "get_results(dataset, 'Product1 - Platform1', show_results = True).summary()"
   ]
  },
  {
   "cell_type": "markdown",
   "id": "de6b7ba3-f063-4e3a-a145-313face5d8e8",
   "metadata": {},
   "source": [
    "It's easy to notice the positive relationship between investment and conversions given by the positive coefficient, which, by the way, is statistically significant. The R2 is low, but I don't care since the next figure will show we have a good model that understands the diminishing returns relationship between these two variables."
   ]
  },
  {
   "cell_type": "code",
   "execution_count": null,
   "id": "6d120f91-3d0f-4539-94d0-efef8b4f74ba",
   "metadata": {},
   "outputs": [],
   "source": [
    "get_results(dataset, 'Product1 - Platform1', show_results = False)"
   ]
  },
  {
   "cell_type": "markdown",
   "id": "53b45b30-cdf0-4a9f-99fa-f26008f88521",
   "metadata": {},
   "source": [
    "In the previous figure it is easy to see that the higher the investment level, the harder it will be to get X amount of extra conversions given a specific increase in investment. That is, a 100 dollars increase in investment will yield more conversions if we are investing around 1000 dollars compared to what we would get if we were investing, say, 2000 dollars.\n",
    "\n",
    "For later purposes, it will be useful to obtain the coefficients for both the constant and the investment for all products in all possible platforms."
   ]
  },
  {
   "cell_type": "code",
   "execution_count": null,
   "id": "ed45c7d6-e9da-45d8-bd54-fa40646874b9",
   "metadata": {},
   "outputs": [],
   "source": [
    "# Get list of all products and platforms combinations\n",
    "products_platforms = [i.replace(' - Investment', '') for i in dataset.columns if 'Investment' in i]\n",
    "\n",
    "# Get model coefficients into a dictionary\n",
    "params_dict = {}\n",
    "\n",
    "for i in products_platforms:\n",
    "    params_dict[i] = get_results(dataset, i, show_results = True).params.tolist()"
   ]
  },
  {
   "cell_type": "code",
   "execution_count": null,
   "id": "3e9457cb-568f-485b-9510-f766080bb802",
   "metadata": {},
   "outputs": [],
   "source": [
    "json.dump(params_dict, open(r'C:\\Users\\HP\\Desktop\\SH - Profesional\\Data Science and Machine Learning\\Proyectos\\My projects\\Conversions tool\\params_dict.json', 'w'))"
   ]
  },
  {
   "cell_type": "markdown",
   "id": "89481de2-066d-4dff-94b4-fa90efd4c653",
   "metadata": {},
   "source": [
    "### Tools\n",
    "Now it's time to create some tools that will allow to use the models' results to gain some useful insights. \n",
    "\n",
    "Questions with business value:\n",
    "1. Given that one may desire to obtain X amount of conversions, how much will those conversions cost?\n",
    "2. Given that I'm already obtaining X amoung of conversions, how much will Y extra conversions cost?\n",
    "3. Given that conversions get more expensive the higher the level of investment, until what point is it profitable to keep getting more converions?\n",
    "4. Given that I may want X conversions, what is the investment range that guarantees me, almost for certain, to obtain them?\n",
    "\n",
    "The idea is to create tools that address these questions."
   ]
  },
  {
   "cell_type": "markdown",
   "id": "3e8f46aa-c089-42c5-8b86-810cb5a1b663",
   "metadata": {},
   "source": [
    "#### 1. Given that one may desire to obtain X amount of conversions, how much will those conversions cost?\n",
    "Usually, one has a goal of conversions that is supposed to achieve certain month for a given product in certain platform. Why that is is of no concern to me right now, but as that usually is the case, then I'll develop a simple tool that gives a sense of how much money one would need to get those converions. This will be based on the models' results. \n",
    "\n",
    "Remember that we are using a simple specification, that is, **conversions = const + beta * sqrt(investment)**. This means we can easily invert this function to **investment = ((conversions - const)/beta)^2**. This gives a simple way to compute, for X amount of desired conversions, how much those conversions are going to cost.\n",
    "\n",
    "The following function allows to set, for a specific product and platform, a converions goal (daily or monthly) to get the monthly and daily cost, and the average cost per conversion (CPC), which is simply daily cost divided by daily conversions goal."
   ]
  },
  {
   "cell_type": "code",
   "execution_count": null,
   "id": "30735b6d-9e4e-4e48-afd3-9e53190c4671",
   "metadata": {},
   "outputs": [],
   "source": [
    "def get_conversions_cost(product, platform, params_dict, goal_conversions, monthly_goal = True):\n",
    "    \n",
    "    params = params_dict[f'{product} - {platform}']\n",
    "    const = params[0]\n",
    "    coeff = params[1]\n",
    "    \n",
    "    # If monthly_goal is set to True, divide goal_conversions by 30 to get daily goal, since the model is for daily data. Then, multiply cost by 30 to get monthly cost\n",
    "    if monthly_goal:\n",
    "        goal_conversions = goal_conversions / 30\n",
    "        \n",
    "    daily_cost = ((goal_conversions - const) / coeff) ** 2\n",
    "    monthly_cost = daily_cost * 30\n",
    "    cpc = daily_cost / goal_conversions\n",
    "    \n",
    "    return {'Monthly cost': monthly_cost, 'Daily cost': daily_cost, 'Cost per conversion': cpc}"
   ]
  },
  {
   "cell_type": "markdown",
   "id": "ddebbc46-a4af-4ba5-adeb-934da17035a6",
   "metadata": {},
   "source": [
    "For example, for *Product1* in *Platform1*, a monthly conversions goal of 30000, that is, 1000 daily conversions, would have a monthly cost of 280k dollars. "
   ]
  },
  {
   "cell_type": "code",
   "execution_count": null,
   "id": "3b163bae-9262-4c02-8d35-03e0e63ff0c2",
   "metadata": {},
   "outputs": [],
   "source": [
    "get_conversions_cost(product = 'Product1', platform = 'Platform1', params_dict = params_dict, goal_conversions = 30000, monthly_goal = True)['Monthly cost']"
   ]
  },
  {
   "cell_type": "markdown",
   "id": "23702c59-4e1e-425f-8b75-923988dd20f1",
   "metadata": {},
   "source": [
    "For the same product and platform, a daily conversions goal of 500, that is, 15000 monthly converions, would have a monthly cost of 79260 dollars."
   ]
  },
  {
   "cell_type": "code",
   "execution_count": null,
   "id": "41c4f243-b898-4799-88dc-c843586fc24b",
   "metadata": {},
   "outputs": [],
   "source": [
    "get_conversions_cost(product = 'Product1', platform = 'Platform1', params_dict = params_dict, goal_conversions = 500, monthly_goal = False)"
   ]
  },
  {
   "cell_type": "markdown",
   "id": "e30eca75-797a-49a9-800c-c329a6b7b885",
   "metadata": {},
   "source": [
    "Two important remarks:\n",
    "1. The way I'm proposing to answer this business questions has one very importante caveat, which is that I'm using there is no time dependence. That is, the money I invest today will have no impact whatsoever tomorrow. In this case, this makes sense since models with adstock do not yield good results, but this is something worth considering if there is evidence that suggests that what we today has an impact tomorrow in terms of possible conversions. If that were the case, a simple function as the one before becomes useless as it doesn't take into account that phenomena.\n",
    "2. The average CPC is only useful to get an overall grasp of how much each conversion consts. Nonetheless, it should be taken into account the diminishing returns nature of the relationship between investment and conversions. This means that, when taking an average CPC, that number is biased by the first conversions which are quite cheap, which is definitely not the case for conversions obtained at higher levels of investment. Another way of putting it is that, this number doesn't reflect the actual CPC of the last conversions. For example, if we have a daily goal of 5000 conversions, and the CPC is at 1000, what's happening is that the converion number 5000 is way above 1000. Therefore, we need another tool that addresses this issue, there we go next."
   ]
  },
  {
   "cell_type": "markdown",
   "id": "db2c29a2-372e-4090-8d7c-c733e8ae9ec7",
   "metadata": {},
   "source": [
    "#### 2. Given that I'm already obtaining X amoung of conversions, how much will Y extra conversions cost?\n",
    "As discussed before, we need a better measure of how much each conversion costs at any level of investment. The following tool/function aims to address this business question. The idea is to set an initial level of conversions, taken as a benchmark, and to set an increase of conversions from that level. The output is how much each of those extra conversions is goint to cost."
   ]
  },
  {
   "cell_type": "code",
   "execution_count": null,
   "id": "156aee82-894f-4472-be15-48955cf9d884",
   "metadata": {},
   "outputs": [],
   "source": [
    "def get_actual_cpc(product, platform, params_dict, base_conversions, extra_conversions, monthly_goal = True):\n",
    "    \n",
    "    params = params_dict[f'{product} - {platform}']\n",
    "    const = params[0]\n",
    "    coeff = params[1]\n",
    "    \n",
    "    new_conversions = base_conversions + extra_conversions\n",
    "    \n",
    "    if monthly_goal:\n",
    "        base_conversions = base_conversions / 30\n",
    "        new_conversions = new_conversions / 30\n",
    "        \n",
    "    # Get delta of conversions\n",
    "    conversions_change = new_conversions - base_conversions\n",
    "    \n",
    "    # Get delta of cost\n",
    "    cost_base = ((base_conversions - const) / coeff) ** 2\n",
    "    cost_new = ((new_conversions - const) / coeff) ** 2\n",
    "    cost_change = cost_new - cost_base\n",
    "    \n",
    "    # Get CPC\n",
    "    cpc = cost_change / conversions_change\n",
    "    \n",
    "    return {'Daily base conversions': base_conversions, 'Daily new conversions': new_conversions, 'Actual CPC': cpc}"
   ]
  },
  {
   "cell_type": "code",
   "execution_count": null,
   "id": "1a2ce375-ad45-423e-9fd4-20c1de8cb862",
   "metadata": {},
   "outputs": [],
   "source": [
    "get_actual_cpc('Product1', 'Platform1', params_dict, 1000, 1, monthly_goal = False)"
   ]
  },
  {
   "cell_type": "code",
   "execution_count": null,
   "id": "fd1ae7f4-4e8f-4b73-b4b2-982c275e8570",
   "metadata": {},
   "outputs": [],
   "source": [
    "get_conversions_cost(product = 'Product1', platform = 'Platform1', params_dict = params_dict, goal_conversions = 30000, monthly_goal = True)"
   ]
  },
  {
   "cell_type": "markdown",
   "id": "79d1a37e-95ff-4477-bee9-becdd1e508b0",
   "metadata": {},
   "source": [
    "Let's take a look to the example above. For the same level of monthly conversions, average CPC was around 9.36. As said earlier, this value is downwardly biased since it takes advantage of the fact that the first conversions are quite cheap to get. But, when we get the actual CPC around that amount conversions (30k a month, 1k a day), we see that the CPC is actually 17.58 dollars, which almost doubles the average CPC. The lesson here is that, when we assume a diminishing returns relationship, we should remember that a number such as the CPC may be biased.\n",
    "\n",
    "Now that we have this tool, it may be of use to know how the CPC increases at different baselines of goal conversions. We might be interested not only in knowing the actual CPC for going from 1000 to 1001 conversions, but also from 1001 to 1002, and 1002 to 1003, and so. We may want to know this to compare the cost of each extra conversion to the value we assign that conversion. Next, I'll address exactly that."
   ]
  },
  {
   "cell_type": "markdown",
   "id": "c68ea946-963f-42bc-80c3-e2e70ca1087f",
   "metadata": {},
   "source": [
    "#### 3. Given that conversions get more expensive the higher the level of investment, until what point is it profitable to keep getting more converions?\n",
    "The idea of the following tool is to get a good grasp of actual CPC at any level of conversions. This will be useful when deciding if that extra conversion is worth the cost or not, since one may compare the increasing cost of one extra conversion to the value assigned to that conversion."
   ]
  },
  {
   "cell_type": "code",
   "execution_count": null,
   "id": "25388335-81ea-479c-b457-22e95d1dc7d9",
   "metadata": {},
   "outputs": [],
   "source": [
    "def get_actual_cpc_line(product, platform, params_dict, base_conversions, steps = 100, jump = 1, monthly_goal = True, df = False):\n",
    "    \n",
    "    params = params_dict[f'{product} - {platform}']\n",
    "    const = params[0]\n",
    "    coeff = params[1]\n",
    "    \n",
    "    if monthly_goal:\n",
    "        base_conversions = base_conversions / 30\n",
    "        \n",
    "    new_conversions = base_conversions + jump\n",
    "    \n",
    "    cpc_dict = {}\n",
    "    \n",
    "    for i in range(steps):\n",
    "        # Get delta of conversions\n",
    "        conversions_change = new_conversions - base_conversions\n",
    "\n",
    "        # Get delta of cost\n",
    "        cost_base = ((base_conversions - const) / coeff) ** 2\n",
    "        cost_new = ((new_conversions - const) / coeff) ** 2\n",
    "        cost_change = cost_new - cost_base\n",
    "\n",
    "        # Get CPC\n",
    "        cpc = cost_change / conversions_change\n",
    "        \n",
    "        cpc_dict[i] = {'Daily base conversions': base_conversions, 'Daily new conversions': new_conversions, 'Actual CPC': cpc}\n",
    "        \n",
    "        base_conversions += jump\n",
    "        new_conversions += jump\n",
    "        \n",
    "    if df:\n",
    "        return pd.DataFrame.from_dict(cpc_dict).T\n",
    "        \n",
    "    return cpc_dict"
   ]
  },
  {
   "cell_type": "code",
   "execution_count": null,
   "id": "2d757317-68ee-48d2-a1c5-cb62348bbd82",
   "metadata": {},
   "outputs": [],
   "source": [
    "cpc = get_actual_cpc_line('Product1', 'Platform1', params_dict, 30000, steps = 1000, jump = 10, monthly_goal = True, df = True)"
   ]
  },
  {
   "cell_type": "markdown",
   "id": "3fef9336-3fc0-4280-907a-4b1c6cffc6ca",
   "metadata": {},
   "source": [
    "Using the previous function one can get the actual CPC at 1000 daily conversions up to 11000. How do we read the results (the dataframe)? Let's take the first row, going from 1000 daily conversions to 1010 daily conversions, each of those extra conversions cost around 17.66 dollars. If we take the last row, going from 10990 daily conversions to 11000 costs around 182.36 dollars. This is useful information because we can compare it to value we assign to each conversion."
   ]
  },
  {
   "cell_type": "code",
   "execution_count": null,
   "id": "67a64998-d01e-4841-a958-b814d9a7bd8b",
   "metadata": {},
   "outputs": [],
   "source": [
    "cpc"
   ]
  },
  {
   "cell_type": "code",
   "execution_count": null,
   "id": "ff91b8f2-8e2c-4061-ac52-73fc4c2ef979",
   "metadata": {},
   "outputs": [],
   "source": [
    "def cpc_vs_threshold(df, threshold_value, find_closest = False):\n",
    "    \n",
    "    temp = df.copy(deep = True)\n",
    "    temp['Threshold'] = threshold_value\n",
    "    \n",
    "    if threshold_value < temp['Actual CPC'].min():\n",
    "        print(f\"WARNING: Chosen threshold value {threshold_value} is lower than CPC minimum {round(temp['Actual CPC'].min(), 2)}.\")\n",
    "    elif threshold_value > temp['Actual CPC'].max():\n",
    "        print(f\"WARNING: Chosen threshold value {threshold_value} is higher than CPC maximum {round(temp['Actual CPC'].max(), 2)}.\")\n",
    "       \n",
    "    if find_closest:\n",
    "        closest_index = temp['Actual CPC'].sub(threshold_value).abs().idxmin()\n",
    "        closest_value = {\n",
    "            'Base conversions': temp.iloc[closest_index]['Daily base conversions'],\n",
    "            'New conversions': temp.iloc[closest_index]['Daily new conversions'],\n",
    "            'Actual CPC': temp.iloc[closest_index]['Actual CPC']\n",
    "        }\n",
    "        \n",
    "        print(f\"Going from {closest_value['Base conversions']} to {closest_value['New conversions']} is the closest, in terms of CPC, to the specified profitable threshold {threshold_value}.\")\n",
    "        \n",
    "        return temp, closest_value\n",
    "    \n",
    "    return temp"
   ]
  },
  {
   "cell_type": "markdown",
   "id": "d3ba2e9f-d031-4fb0-a5e5-791e3a438ac5",
   "metadata": {},
   "source": [
    "With the previous function we can define a threshold value below which one may say it is worth to try to increase conversions since they are cheaper than what we think they are worth. Above that value, we might want to consider lowering investment since those conversions are more expensive than the defined value. It's easier to plot 'Actual CPC' with the defined 'Threshold' value. For our example, let's define 120 as that value."
   ]
  },
  {
   "cell_type": "code",
   "execution_count": null,
   "id": "c216e62e-bc33-420d-8061-7cc0fb3dc914",
   "metadata": {},
   "outputs": [],
   "source": [
    "cpc_vs_threshold(cpc, 120, False)[['Actual CPC', 'Threshold']].plot(figsize = (16, 8))"
   ]
  },
  {
   "cell_type": "markdown",
   "id": "61b9415c-5f63-40e2-8490-33703df413d8",
   "metadata": {},
   "source": [
    "While visually helpful, it is of more value to be able to quickly learn at which point, that is, at what level of conversions, some X amount of extra conversions become more expensive than 120. Therefore, setting the function argument 'find_closest' to True, one may find out that point."
   ]
  },
  {
   "cell_type": "code",
   "execution_count": null,
   "id": "28c87cfc-2479-4fbf-bfc8-11047aabbcd8",
   "metadata": {},
   "outputs": [],
   "source": [
    "cpc_vs_threshold(cpc, 120, find_closest = True)[1]"
   ]
  },
  {
   "cell_type": "markdown",
   "id": "94a17218-07f9-488f-9a1b-3c8d550e392c",
   "metadata": {},
   "source": [
    "Going through the previous results, the CPC matches the defined threshold when going from 7210 conversions to 7220, so one may want to stop at 7210, because trying to get more conversions than that won't be profitable."
   ]
  },
  {
   "cell_type": "markdown",
   "id": "be161df2-ea7a-4d98-a6ab-cf5bf689591d",
   "metadata": {},
   "source": [
    "#### 4. Given that I may want X conversions, what is the investment range that guarantees me, almost for certain, to obtain them?"
   ]
  },
  {
   "cell_type": "markdown",
   "id": "9559f5eb-d953-4806-ae54-963d22e54497",
   "metadata": {},
   "source": [
    "Finally, one may be interested in knowing within what range of investment one may get a desired goal of conversions. This tool aims to address this question by using the models coefficients' confidence intervals at 95% confidence."
   ]
  },
  {
   "cell_type": "code",
   "execution_count": null,
   "id": "c3e7a2a8-426d-47b0-aa39-df4a4369ff48",
   "metadata": {},
   "outputs": [],
   "source": [
    "def get_investment_range(dataset, product, platform, goal_conversions, monthly_goal = True):\n",
    "    \n",
    "    # Get confidence interval for both coefficients\n",
    "    conf_int = get_results(dataset, f'{product} - {platform}', show_results = True).conf_int(alpha = 0.05)\n",
    "    \n",
    "    params = {}\n",
    "    params['Optimistic'] = conf_int[1].to_list()\n",
    "    params['Pessimistic'] = conf_int[0].to_list()\n",
    "    \n",
    "    # Get investment levels\n",
    "    investment_range = {}\n",
    "    \n",
    "    if monthly_goal:\n",
    "            goal_conversions = goal_conversions / 30\n",
    "    \n",
    "    for i in ['Optimistic', 'Pessimistic']:\n",
    "        const = params[i][0]\n",
    "        coeff = params[i][1]\n",
    "        \n",
    "        daily_cost = ((goal_conversions - const) / coeff) ** 2\n",
    "        monthly_cost = daily_cost * 30\n",
    "        \n",
    "        investment_range[i] = {'Daily cost': daily_cost, 'Monthly cost': monthly_cost}\n",
    "        \n",
    "    return investment_range"
   ]
  },
  {
   "cell_type": "markdown",
   "id": "0dae7628-c02a-4aed-a69b-4378f347bd37",
   "metadata": {},
   "source": [
    "Let's say we are interested in knowing how much money would it take to get 1000 daily conversions, but in this case we are planning for best and for worst. Using the coefficients' confidence interval, we get that it would take somewhere between 6200 to 14800 dollars a day to achieve the defined goal."
   ]
  },
  {
   "cell_type": "code",
   "execution_count": null,
   "id": "3f70277c-bb1f-4c04-837f-c3c811974d99",
   "metadata": {},
   "outputs": [],
   "source": [
    "get_investment_range(dataset, 'Product1', 'Platform1', 30000, monthly_goal = True)"
   ]
  },
  {
   "cell_type": "markdown",
   "id": "b0463189-927f-4ef0-8e0a-ab2364a7dbd1",
   "metadata": {},
   "source": [
    "### Conclusions"
   ]
  },
  {
   "cell_type": "markdown",
   "id": "242b12c3-4335-4067-8ae1-0d444a56fbe0",
   "metadata": {},
   "source": [
    "I've performed some EDA on a synthetic dataset and created four tools that address interesting and important questions from a business point of view. There are of course many things that could be added to this analysis, besides many other questions that could be posed. Some of these extensions are:\n",
    "1. Allowing for the possibility that whatever amount of money we invest today will also have an impact tommorow.\n",
    "2. Adding many more features to the models, such as holidays, events, promotions, etc.\n",
    "3. Trying other model specifications that also capture the diminishing returns relationship.\n",
    "4. Allowing for the possibility that investment in one product has impact on others products (or even platforms).\n",
    "5. Creating a calculator that allows to optimize between products and platforms."
   ]
  }
 ],
 "metadata": {
  "interpreter": {
   "hash": "dc07d24e2f18896857f0b2a651fe84ba40ce7b297e58d8804a308c8039f752a6"
  },
  "kernelspec": {
   "display_name": "Python 3 (ipykernel)",
   "language": "python",
   "name": "python3"
  },
  "language_info": {
   "codemirror_mode": {
    "name": "ipython",
    "version": 3
   },
   "file_extension": ".py",
   "mimetype": "text/x-python",
   "name": "python",
   "nbconvert_exporter": "python",
   "pygments_lexer": "ipython3",
   "version": "3.9.7"
  }
 },
 "nbformat": 4,
 "nbformat_minor": 5
}
